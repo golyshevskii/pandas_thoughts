{
 "cells": [
  {
   "cell_type": "code",
   "execution_count": 6,
   "metadata": {},
   "outputs": [
    {
     "name": "stdout",
     "output_type": "stream",
     "text": [
      "\n",
      "INSTALLED VERSIONS\n",
      "------------------\n",
      "commit           : 91111fd99898d9dcaa6bf6bedb662db4108da6e6\n",
      "python           : 3.10.7.final.0\n",
      "python-bits      : 64\n",
      "OS               : Darwin\n",
      "OS-release       : 21.6.0\n",
      "Version          : Darwin Kernel Version 21.6.0: Mon Aug 22 20:20:05 PDT 2022; root:xnu-8020.140.49~2/RELEASE_ARM64_T8101\n",
      "machine          : arm64\n",
      "processor        : arm\n",
      "byteorder        : little\n",
      "LC_ALL           : None\n",
      "LANG             : None\n",
      "LOCALE           : None.UTF-8\n",
      "\n",
      "pandas           : 1.5.1\n",
      "numpy            : 1.23.5\n",
      "pytz             : 2022.6\n",
      "dateutil         : 2.8.2\n",
      "setuptools       : 63.2.0\n",
      "pip              : 22.3.1\n",
      "Cython           : None\n",
      "pytest           : None\n",
      "hypothesis       : None\n",
      "sphinx           : None\n",
      "blosc            : None\n",
      "feather          : None\n",
      "xlsxwriter       : None\n",
      "lxml.etree       : None\n",
      "html5lib         : None\n",
      "pymysql          : None\n",
      "psycopg2         : None\n",
      "jinja2           : None\n",
      "IPython          : 8.6.0\n",
      "pandas_datareader: None\n",
      "bs4              : None\n",
      "bottleneck       : None\n",
      "brotli           : None\n",
      "fastparquet      : None\n",
      "fsspec           : None\n",
      "gcsfs            : None\n",
      "matplotlib       : None\n",
      "numba            : None\n",
      "numexpr          : None\n",
      "odfpy            : None\n",
      "openpyxl         : None\n",
      "pandas_gbq       : None\n",
      "pyarrow          : None\n",
      "pyreadstat       : None\n",
      "pyxlsb           : None\n",
      "s3fs             : None\n",
      "scipy            : None\n",
      "snappy           : None\n",
      "sqlalchemy       : None\n",
      "tables           : None\n",
      "tabulate         : None\n",
      "xarray           : None\n",
      "xlrd             : None\n",
      "xlwt             : None\n",
      "zstandard        : None\n",
      "tzdata           : None\n"
     ]
    },
    {
     "name": "stderr",
     "output_type": "stream",
     "text": [
      "/Users/python_poseur/pandas_thoughts/venv/lib/python3.10/site-packages/_distutils_hack/__init__.py:33: UserWarning: Setuptools is replacing distutils.\n",
      "  warnings.warn(\"Setuptools is replacing distutils.\")\n"
     ]
    }
   ],
   "source": [
    "import pandas\n",
    "\n",
    "pandas.show_versions()"
   ]
  },
  {
   "cell_type": "code",
   "execution_count": 24,
   "metadata": {},
   "outputs": [
    {
     "name": "stdout",
     "output_type": "stream",
     "text": [
      "float64 Series:\n",
      "a    2.0\n",
      "b    NaN\n",
      "Name: float_series, dtype: float64\n",
      "int64 series:\n",
      "0       2\n",
      "1    <NA>\n",
      "Name: integer_series, dtype: Int64\n",
      "1 1\n"
     ]
    }
   ],
   "source": [
    "import pandas as pd\n",
    "import numpy as np\n",
    "\n",
    "f_s = pd.Series([2, np.nan], index=['a', 'b'], name='float_series')\n",
    "# NaN - Not a Number Float Type\n",
    "print(f'float64 Series:\\n{f_s}')\n",
    "\n",
    "i_s = pd.Series([2, None], name='integer_series', dtype='Int64')\n",
    "# NA - Nullable Integer Type\n",
    "print(f'int64 series:\\n{i_s}')\n",
    "\n",
    "cnt_f_s = f_s.count()\n",
    "cnt_i_s = i_s.count()\n",
    "print(f'{cnt_f_s} {cnt_i_s}')"
   ]
  },
  {
   "cell_type": "code",
   "execution_count": 35,
   "metadata": {},
   "outputs": [
    {
     "name": "stdout",
     "output_type": "stream",
     "text": [
      "Masha     2.5\n",
      "Arthur    2.1\n",
      "Egor      1.9\n",
      "Slava     1.5\n",
      "Name: scores, dtype: float64\n",
      "[2.5 2.1 1.9 1.5]\n",
      "Masha     2.5\n",
      "Arthur    2.1\n",
      "Name: scores, dtype: float64\n",
      "[2.5 2.1]\n"
     ]
    }
   ],
   "source": [
    "# import pandas as pd\n",
    "# import numpy as np\n",
    "\n",
    "data = [2.5, 2.1, 1.9, 1.5]\n",
    "s = pd.Series(data, index=['Masha', 'Arthur', 'Egor', 'Slava'], name='scores')\n",
    "a = np.array(data)\n",
    "# print(f'{s}\\n{a}')\n",
    "\n",
    "m_s, m_a = s.median(), np.median(a)\n",
    "print(f'{s[s > m_s]}\\n{a[a > m_a]}')"
   ]
  },
  {
   "cell_type": "code",
   "execution_count": 43,
   "metadata": {},
   "outputs": [
    {
     "name": "stdout",
     "output_type": "stream",
     "text": [
      "0    a\n",
      "1    b\n",
      "2    c\n",
      "3    a\n",
      "dtype: category\n",
      "Categories (3, object): ['a', 'b', 'c']\n",
      "0    a\n",
      "1    b\n",
      "2    c\n",
      "3    a\n",
      "dtype: object\n",
      "430 376\n",
      "28 32\n"
     ]
    }
   ],
   "source": [
    "# import pandas as pd\n",
    "# import numpy as np\n",
    "import sys\n",
    "\n",
    "data = ['a', 'b', 'c', 'a']\n",
    "c_s = pd.Series(data, dtype='category')\n",
    "s = pd.Series(data)\n",
    "print(f'{c_s}\\n{s}')\n",
    "# nbytes return the size of the store data, while getsizeof returns the size of the entire array at creation\n",
    "print(sys.getsizeof(c_s), sys.getsizeof(s))\n",
    "print(c_s.nbytes, s.nbytes)"
   ]
  },
  {
   "cell_type": "code",
   "execution_count": 8,
   "metadata": {},
   "outputs": [
    {
     "name": "stdout",
     "output_type": "stream",
     "text": [
      "3    11\n",
      "4    11\n",
      "5    11\n",
      "6    12\n",
      "Name: temperature, dtype: int64\n",
      "0      red\n",
      "1     blue\n",
      "2    green\n",
      "Name: colors, dtype: category\n",
      "Categories (3, object): ['blue', 'green', 'red'] 27\n"
     ]
    }
   ],
   "source": [
    "# Create a series with the temperature values for the last seven days.\n",
    "# Filter out the values below the mean.\n",
    "import pandas as pd\n",
    "\n",
    "# Yerevan\n",
    "data = [16, 15, 15, 11, 11, 11, 12]\n",
    "s = pd.Series(data, name='temperature')\n",
    "print(s[s < s.mean()])\n",
    "\n",
    "# Create a series with your favorite colors. Use a categorical type.\n",
    "data = ['red', 'blue', 'green']\n",
    "s = pd.Series(data, name='colors', dtype='category')\n",
    "print(s, s.nbytes)"
   ]
  },
  {
   "cell_type": "code",
   "execution_count": 2,
   "metadata": {},
   "outputs": [
    {
     "name": "stdout",
     "output_type": "stream",
     "text": [
      "Index            128\n",
      "barrels08     329152\n",
      "barrelsA08    329152\n",
      "charge120     329152\n",
      "charge240     329152\n",
      "               ...  \n",
      "modifiedOn    329152\n",
      "startStop     329152\n",
      "phevCity      329152\n",
      "phevHwy       329152\n",
      "phevComb      329152\n",
      "Length: 84, dtype: int64\n",
      "(41144, 83)\n"
     ]
    },
    {
     "name": "stderr",
     "output_type": "stream",
     "text": [
      "/var/folders/dy/98lp64856sn6kt9gr7cdbq1h0000gn/T/ipykernel_1155/43164019.py:4: DtypeWarning: Columns (68,70,71,72,73,74,76,79) have mixed types. Specify dtype option on import or set low_memory=False.\n",
      "  df = pd.read_csv('./data/vehicles.csv.zip')\n"
     ]
    },
    {
     "data": {
      "text/html": [
       "<div>\n",
       "<style scoped>\n",
       "    .dataframe tbody tr th:only-of-type {\n",
       "        vertical-align: middle;\n",
       "    }\n",
       "\n",
       "    .dataframe tbody tr th {\n",
       "        vertical-align: top;\n",
       "    }\n",
       "\n",
       "    .dataframe thead th {\n",
       "        text-align: right;\n",
       "    }\n",
       "</style>\n",
       "<table border=\"1\" class=\"dataframe\">\n",
       "  <thead>\n",
       "    <tr style=\"text-align: right;\">\n",
       "      <th></th>\n",
       "      <th>barrels08</th>\n",
       "      <th>barrelsA08</th>\n",
       "      <th>charge120</th>\n",
       "      <th>charge240</th>\n",
       "      <th>city08</th>\n",
       "      <th>city08U</th>\n",
       "      <th>cityA08</th>\n",
       "      <th>cityA08U</th>\n",
       "      <th>cityCD</th>\n",
       "      <th>cityE</th>\n",
       "      <th>...</th>\n",
       "      <th>mfrCode</th>\n",
       "      <th>c240Dscr</th>\n",
       "      <th>charge240b</th>\n",
       "      <th>c240bDscr</th>\n",
       "      <th>createdOn</th>\n",
       "      <th>modifiedOn</th>\n",
       "      <th>startStop</th>\n",
       "      <th>phevCity</th>\n",
       "      <th>phevHwy</th>\n",
       "      <th>phevComb</th>\n",
       "    </tr>\n",
       "  </thead>\n",
       "  <tbody>\n",
       "    <tr>\n",
       "      <th>0</th>\n",
       "      <td>15.695714</td>\n",
       "      <td>0.0</td>\n",
       "      <td>0.0</td>\n",
       "      <td>0.0</td>\n",
       "      <td>19</td>\n",
       "      <td>0.0</td>\n",
       "      <td>0</td>\n",
       "      <td>0.0</td>\n",
       "      <td>0.0</td>\n",
       "      <td>0.0</td>\n",
       "      <td>...</td>\n",
       "      <td>NaN</td>\n",
       "      <td>NaN</td>\n",
       "      <td>0.0</td>\n",
       "      <td>NaN</td>\n",
       "      <td>Tue Jan 01 00:00:00 EST 2013</td>\n",
       "      <td>Tue Jan 01 00:00:00 EST 2013</td>\n",
       "      <td>NaN</td>\n",
       "      <td>0</td>\n",
       "      <td>0</td>\n",
       "      <td>0</td>\n",
       "    </tr>\n",
       "    <tr>\n",
       "      <th>1</th>\n",
       "      <td>29.964545</td>\n",
       "      <td>0.0</td>\n",
       "      <td>0.0</td>\n",
       "      <td>0.0</td>\n",
       "      <td>9</td>\n",
       "      <td>0.0</td>\n",
       "      <td>0</td>\n",
       "      <td>0.0</td>\n",
       "      <td>0.0</td>\n",
       "      <td>0.0</td>\n",
       "      <td>...</td>\n",
       "      <td>NaN</td>\n",
       "      <td>NaN</td>\n",
       "      <td>0.0</td>\n",
       "      <td>NaN</td>\n",
       "      <td>Tue Jan 01 00:00:00 EST 2013</td>\n",
       "      <td>Tue Jan 01 00:00:00 EST 2013</td>\n",
       "      <td>NaN</td>\n",
       "      <td>0</td>\n",
       "      <td>0</td>\n",
       "      <td>0</td>\n",
       "    </tr>\n",
       "    <tr>\n",
       "      <th>2</th>\n",
       "      <td>12.207778</td>\n",
       "      <td>0.0</td>\n",
       "      <td>0.0</td>\n",
       "      <td>0.0</td>\n",
       "      <td>23</td>\n",
       "      <td>0.0</td>\n",
       "      <td>0</td>\n",
       "      <td>0.0</td>\n",
       "      <td>0.0</td>\n",
       "      <td>0.0</td>\n",
       "      <td>...</td>\n",
       "      <td>NaN</td>\n",
       "      <td>NaN</td>\n",
       "      <td>0.0</td>\n",
       "      <td>NaN</td>\n",
       "      <td>Tue Jan 01 00:00:00 EST 2013</td>\n",
       "      <td>Tue Jan 01 00:00:00 EST 2013</td>\n",
       "      <td>NaN</td>\n",
       "      <td>0</td>\n",
       "      <td>0</td>\n",
       "      <td>0</td>\n",
       "    </tr>\n",
       "    <tr>\n",
       "      <th>3</th>\n",
       "      <td>29.964545</td>\n",
       "      <td>0.0</td>\n",
       "      <td>0.0</td>\n",
       "      <td>0.0</td>\n",
       "      <td>10</td>\n",
       "      <td>0.0</td>\n",
       "      <td>0</td>\n",
       "      <td>0.0</td>\n",
       "      <td>0.0</td>\n",
       "      <td>0.0</td>\n",
       "      <td>...</td>\n",
       "      <td>NaN</td>\n",
       "      <td>NaN</td>\n",
       "      <td>0.0</td>\n",
       "      <td>NaN</td>\n",
       "      <td>Tue Jan 01 00:00:00 EST 2013</td>\n",
       "      <td>Tue Jan 01 00:00:00 EST 2013</td>\n",
       "      <td>NaN</td>\n",
       "      <td>0</td>\n",
       "      <td>0</td>\n",
       "      <td>0</td>\n",
       "    </tr>\n",
       "    <tr>\n",
       "      <th>4</th>\n",
       "      <td>17.347895</td>\n",
       "      <td>0.0</td>\n",
       "      <td>0.0</td>\n",
       "      <td>0.0</td>\n",
       "      <td>17</td>\n",
       "      <td>0.0</td>\n",
       "      <td>0</td>\n",
       "      <td>0.0</td>\n",
       "      <td>0.0</td>\n",
       "      <td>0.0</td>\n",
       "      <td>...</td>\n",
       "      <td>NaN</td>\n",
       "      <td>NaN</td>\n",
       "      <td>0.0</td>\n",
       "      <td>NaN</td>\n",
       "      <td>Tue Jan 01 00:00:00 EST 2013</td>\n",
       "      <td>Tue Jan 01 00:00:00 EST 2013</td>\n",
       "      <td>NaN</td>\n",
       "      <td>0</td>\n",
       "      <td>0</td>\n",
       "      <td>0</td>\n",
       "    </tr>\n",
       "  </tbody>\n",
       "</table>\n",
       "<p>5 rows × 83 columns</p>\n",
       "</div>"
      ],
      "text/plain": [
       "   barrels08  barrelsA08  charge120  charge240  city08  city08U  cityA08  \\\n",
       "0  15.695714         0.0        0.0        0.0      19      0.0        0   \n",
       "1  29.964545         0.0        0.0        0.0       9      0.0        0   \n",
       "2  12.207778         0.0        0.0        0.0      23      0.0        0   \n",
       "3  29.964545         0.0        0.0        0.0      10      0.0        0   \n",
       "4  17.347895         0.0        0.0        0.0      17      0.0        0   \n",
       "\n",
       "   cityA08U  cityCD  cityE  ...  mfrCode  c240Dscr  charge240b  c240bDscr  \\\n",
       "0       0.0     0.0    0.0  ...      NaN       NaN         0.0        NaN   \n",
       "1       0.0     0.0    0.0  ...      NaN       NaN         0.0        NaN   \n",
       "2       0.0     0.0    0.0  ...      NaN       NaN         0.0        NaN   \n",
       "3       0.0     0.0    0.0  ...      NaN       NaN         0.0        NaN   \n",
       "4       0.0     0.0    0.0  ...      NaN       NaN         0.0        NaN   \n",
       "\n",
       "                      createdOn                    modifiedOn  startStop  \\\n",
       "0  Tue Jan 01 00:00:00 EST 2013  Tue Jan 01 00:00:00 EST 2013        NaN   \n",
       "1  Tue Jan 01 00:00:00 EST 2013  Tue Jan 01 00:00:00 EST 2013        NaN   \n",
       "2  Tue Jan 01 00:00:00 EST 2013  Tue Jan 01 00:00:00 EST 2013        NaN   \n",
       "3  Tue Jan 01 00:00:00 EST 2013  Tue Jan 01 00:00:00 EST 2013        NaN   \n",
       "4  Tue Jan 01 00:00:00 EST 2013  Tue Jan 01 00:00:00 EST 2013        NaN   \n",
       "\n",
       "   phevCity  phevHwy  phevComb  \n",
       "0         0        0         0  \n",
       "1         0        0         0  \n",
       "2         0        0         0  \n",
       "3         0        0         0  \n",
       "4         0        0         0  \n",
       "\n",
       "[5 rows x 83 columns]"
      ]
     },
     "execution_count": 2,
     "metadata": {},
     "output_type": "execute_result"
    }
   ],
   "source": [
    "import pandas as pd\n",
    "import numpy as np\n",
    "\n",
    "df = pd.read_csv('./data/vehicles.csv.zip')\n",
    "print(f'{df.memory_usage()}\\n{df.shape}')\n",
    "df.head()"
   ]
  },
  {
   "cell_type": "code",
   "execution_count": 24,
   "metadata": {},
   "outputs": [
    {
     "data": {
      "text/plain": [
       "0        22.0\n",
       "1        11.5\n",
       "2        28.0\n",
       "3        11.0\n",
       "4        20.0\n",
       "         ... \n",
       "41139    22.5\n",
       "41140    24.0\n",
       "41141    21.0\n",
       "41142    21.0\n",
       "41143    18.5\n",
       "Length: 41144, dtype: float64"
      ]
     },
     "execution_count": 24,
     "metadata": {},
     "output_type": "execute_result"
    }
   ],
   "source": [
    "city_mpg = df.city08\n",
    "highway_mpg = df.highway08\n",
    "am = (city_mpg + highway_mpg) / 2\n",
    "am"
   ]
  },
  {
   "cell_type": "code",
   "execution_count": 20,
   "metadata": {},
   "outputs": [
    {
     "data": {
      "text/plain": [
       "0     1\n",
       "1    11\n",
       "2    21\n",
       "3    31\n",
       "dtype: int64"
      ]
     },
     "execution_count": 20,
     "metadata": {},
     "output_type": "execute_result"
    }
   ],
   "source": [
    "data = ['a', 'b', 'c', 'd']\n",
    "# str methods access\n",
    "str_s = pd.Series(data).str\n",
    "str_s.upper()\n",
    "\n",
    "# datetime methods access\n",
    "dt_s = pd.Series(pd.date_range('2022-01-01', periods=4, freq='10D')).dt\n",
    "dt_s.day"
   ]
  },
  {
   "cell_type": "code",
   "execution_count": 2,
   "metadata": {},
   "outputs": [
    {
     "data": {
      "text/plain": [
       "1    8.0\n",
       "2    7.0\n",
       "2    8.0\n",
       "2    8.0\n",
       "2    9.0\n",
       "3    NaN\n",
       "4    NaN\n",
       "dtype: float64"
      ]
     },
     "execution_count": 2,
     "metadata": {},
     "output_type": "execute_result"
    }
   ],
   "source": [
    "import pandas as pd\n",
    "\n",
    "s_1 = pd.Series([1, 2, 3, 4], index=[1, 2, 2, 3], name='s_1')\n",
    "s_2 = pd.Series([5, 6, 7, 8], index=[2, 2, 1, 4], name='s_2')\n",
    "\n",
    "r_s = s_1 + s_2\n",
    "r_s"
   ]
  },
  {
   "cell_type": "code",
   "execution_count": 3,
   "metadata": {},
   "outputs": [
    {
     "data": {
      "text/plain": [
       "1    8.0\n",
       "2    7.0\n",
       "2    8.0\n",
       "2    8.0\n",
       "2    9.0\n",
       "3    4.0\n",
       "4    8.0\n",
       "dtype: float64"
      ]
     },
     "execution_count": 3,
     "metadata": {},
     "output_type": "execute_result"
    }
   ],
   "source": [
    "r_s = s_1.add(s_2, fill_value=0)\n",
    "r_s"
   ]
  },
  {
   "cell_type": "code",
   "execution_count": 10,
   "metadata": {},
   "outputs": [
    {
     "name": "stdout",
     "output_type": "stream",
     "text": [
      "0     0\n",
      "1     4\n",
      "2     8\n",
      "3    12\n",
      "4    16\n",
      "Name: evens, dtype: int64\n",
      "0    10\n",
      "1    12\n",
      "2    14\n",
      "3    16\n",
      "4    18\n",
      "Name: evens, dtype: int64\n",
      "0     0\n",
      "1     4\n",
      "2     8\n",
      "3    12\n",
      "4    16\n",
      "Name: evens, dtype: int64\n"
     ]
    }
   ],
   "source": [
    "import pandas as pd\n",
    "import numpy as np\n",
    "\n",
    "s = pd.Series(range(0, 10, 2), name='evens')\n",
    "\n",
    "# Add a numeric series to itself\n",
    "print(s + s)\n",
    "\n",
    "# Add 10 to a numeric series\n",
    "print(s + 10)\n",
    "\n",
    "# Add a numeric series to itself using the .add method\n",
    "print(s.add(s))"
   ]
  },
  {
   "cell_type": "code",
   "execution_count": 14,
   "metadata": {},
   "outputs": [
    {
     "name": "stdout",
     "output_type": "stream",
     "text": [
      "17.0\n",
      "17.0\n",
      "0.1    13.0\n",
      "0.8    21.0\n",
      "0.9    24.0\n",
      "Name: city08, dtype: float64\n"
     ]
    },
    {
     "name": "stderr",
     "output_type": "stream",
     "text": [
      "/var/folders/dy/98lp64856sn6kt9gr7cdbq1h0000gn/T/ipykernel_1399/1657652194.py:3: DtypeWarning: Columns (68,70,71,72,73,74,76,79) have mixed types. Specify dtype option on import or set low_memory=False.\n",
      "  df = pd.read_csv('./data/vehicles.csv.zip')\n"
     ]
    }
   ],
   "source": [
    "import pandas as pd\n",
    "\n",
    "df = pd.read_csv('./data/vehicles.csv.zip')\n",
    "city_mpg = df.city08\n",
    "highway_mpg = df.highway08\n",
    "\n",
    "print(city_mpg.quantile(), city_mpg.quantile(0.5), city_mpg.quantile([0.1, 0.8, 0.9]), sep='\\n')\n",
    "# 13 is a value below which is 10 percent of the sample"
   ]
  },
  {
   "cell_type": "code",
   "execution_count": 22,
   "metadata": {},
   "outputs": [
    {
     "name": "stdout",
     "output_type": "stream",
     "text": [
      "41144\n",
      "10272\n"
     ]
    },
    {
     "data": {
      "text/plain": [
       "267580"
      ]
     },
     "execution_count": 22,
     "metadata": {},
     "output_type": "execute_result"
    }
   ],
   "source": [
    "print(city_mpg.count())\n",
    "\n",
    "# amount of values greater than 20 (trick)\n",
    "print(city_mpg.gt(20).sum())\n",
    "# sum of values greater than 20\n",
    "city_mpg[city_mpg > 20].sum()"
   ]
  },
  {
   "cell_type": "code",
   "execution_count": 24,
   "metadata": {},
   "outputs": [
    {
     "data": {
      "text/plain": [
       "mean               18.369045\n",
       "var                62.503036\n",
       "max               150.000000\n",
       "cnt_of_evens    19742.000000\n",
       "Name: city08, dtype: float64"
      ]
     },
     "execution_count": 24,
     "metadata": {},
     "output_type": "execute_result"
    }
   ],
   "source": [
    "import numpy as np\n",
    "import pandas as pd\n",
    "\n",
    "\n",
    "def cnt_of_evens(s: pd.Series) -> int:\n",
    "    r = s[s % 2 == 0].count()\n",
    "    return r\n",
    "\n",
    "# 'mean' - find inside Series class\n",
    "city_mpg.agg(['mean', np.var, max, cnt_of_evens])"
   ]
  },
  {
   "cell_type": "code",
   "execution_count": 40,
   "metadata": {},
   "outputs": [
    {
     "name": "stdout",
     "output_type": "stream",
     "text": [
      "5\n",
      "8\n",
      "5\n",
      "3.0\n",
      "5.0\n"
     ]
    },
    {
     "data": {
      "text/plain": [
       "count      5.0\n",
       "size       8.0\n",
       "nunique    5.0\n",
       "mean       3.0\n",
       "max        5.0\n",
       "Name: digits, dtype: float64"
      ]
     },
     "execution_count": 40,
     "metadata": {},
     "output_type": "execute_result"
    }
   ],
   "source": [
    "import pandas as pd\n",
    "import numpy as np\n",
    "\n",
    "data = [1, 2, np.nan, 3, 4, np.nan, 5, np.nan]\n",
    "s = pd.Series(data, name='digits')\n",
    "\n",
    "# Find the count of non-missing values of a series\n",
    "print(s.count())\n",
    "\n",
    "# Find the number of entries of a series\n",
    "print(s.size)\n",
    "\n",
    "# Find the number of unique entries of a series\n",
    "print(s.nunique())\n",
    "\n",
    "# Find the mean value of a series\n",
    "print(s.mean())\n",
    "\n",
    "# Find the maximum value of a series\n",
    "print(s.max())\n",
    "\n",
    "# Use the .agg method to find all of the above\n",
    "s.agg(['count', 'size', 'nunique', 'mean', max])"
   ]
  },
  {
   "cell_type": "code",
   "execution_count": 63,
   "metadata": {},
   "outputs": [
    {
     "name": "stdout",
     "output_type": "stream",
     "text": [
      "Machine parameters for int8\n",
      "---------------------------------------------------------------\n",
      "min = -128\n",
      "max = 127\n",
      "---------------------------------------------------------------\n",
      "\n",
      "Machine parameters for int16\n",
      "---------------------------------------------------------------\n",
      "min = -32768\n",
      "max = 32767\n",
      "---------------------------------------------------------------\n",
      "\n",
      "how mush memory int64 object is taking: 329152\n",
      "how mush memory int16 object is taking: 123432\n",
      "how many times more: 2.6666666666666665\n"
     ]
    },
    {
     "name": "stderr",
     "output_type": "stream",
     "text": [
      "/var/folders/dy/98lp64856sn6kt9gr7cdbq1h0000gn/T/ipykernel_1399/2970352403.py:4: DtypeWarning: Columns (68,70,71,72,73,74,76,79) have mixed types. Specify dtype option on import or set low_memory=False.\n",
      "  df = pd.read_csv('./data/vehicles.csv.zip')\n"
     ]
    }
   ],
   "source": [
    "import pandas as pd\n",
    "import numpy as np\n",
    "\n",
    "df = pd.read_csv('./data/vehicles.csv.zip')\n",
    "city_mpg = df.city08\n",
    "highway_mpg = df.highway08\n",
    "\n",
    "print(np.iinfo('int8'), np.iinfo('int16'), sep='\\n')\n",
    "\n",
    "# city_mpg.astype('Int8')\n",
    "nb_int64, nb_int16 = city_mpg.nbytes, city_mpg.astype('Int16').nbytes\n",
    "print(f'''how mush memory int64 object is taking: {nb_int64}\n",
    "how mush memory int16 object is taking: {nb_int16}''')\n",
    "\n",
    "print(f'how many times more: {nb_int64 / nb_int16}')"
   ]
  },
  {
   "cell_type": "code",
   "execution_count": 55,
   "metadata": {},
   "outputs": [
    {
     "name": "stdout",
     "output_type": "stream",
     "text": [
      "0    Alfa Romeo\n",
      "1       Ferrari\n",
      "2         Dodge\n",
      "Name: make, dtype: object\n",
      "How much memory the Pandas object is taking: 329152\n",
      "How much memory the Pandas + Python objects are taking: 2606395\n"
     ]
    }
   ],
   "source": [
    "# Memory usage\n",
    "make = df.make\n",
    "nb_pd, nb_pd_py = make.nbytes, make.memory_usage(deep=True)\n",
    "print(make.head(3))\n",
    "\n",
    "print(f'How much memory the Pandas object is taking: {nb_pd}')\n",
    "print(f'How much memory the Pandas + Python objects are taking: {nb_pd_py}')"
   ]
  },
  {
   "cell_type": "code",
   "execution_count": 64,
   "metadata": {},
   "outputs": [
    {
     "name": "stdout",
     "output_type": "stream",
     "text": [
      "memory usage without categorical type: 2606395\n",
      "memory usage using categorical data type: 95888\n",
      "how many times more: 27.18165985316202\n"
     ]
    }
   ],
   "source": [
    "# for a lot of duplicates it is much better to using categorical data type\n",
    "cat_make = make.astype('category')\n",
    "\n",
    "m_make, m_cat_make = make.memory_usage(deep=True), cat_make.memory_usage(deep=True)\n",
    "\n",
    "print(f'memory usage without categorical type: {m_make}')\n",
    "print(f'memory usage using categorical data type: {m_cat_make}')\n",
    "print(f'how many times more: {m_make / m_cat_make}') #!!!"
   ]
  },
  {
   "cell_type": "code",
   "execution_count": 70,
   "metadata": {},
   "outputs": [
    {
     "name": "stdout",
     "output_type": "stream",
     "text": [
      "num_s int64: 208\n",
      "num_s int8: 138\n",
      "memory usage for str_s: 708\n",
      "memory usage for cat_str_s: 600\n"
     ]
    }
   ],
   "source": [
    "import pandas as pd\n",
    "import numpy as np\n",
    "\n",
    "str_s = pd.Series(list('aabbccddee'), name='chars')\n",
    "num_s = pd.Series(range(10), name='digits')\n",
    "\n",
    "# Convert a numeric column to a smaller type\n",
    "# Calculate the memory savings by converting to smaller numeric types\n",
    "int64_num_s, int8_num_s = num_s.memory_usage(deep=True), num_s.astype(np.int8).memory_usage(deep=True)\n",
    "print(f'num_s int64: {int64_num_s}\\nnum_s int8: {int8_num_s}')\n",
    "\n",
    "# Convert a string column into a categorical type (dublicates!!!)\n",
    "# Calculate the memory savings by converting to a categorical type\n",
    "obj_str, cat_str_s = str_s.memory_usage(deep=True), str_s.astype('category').memory_usage(deep=True)\n",
    "print(f'memory usage for str_s: {obj_str}\\nmemory usage for cat_str_s: {cat_str_s}')"
   ]
  },
  {
   "cell_type": "code",
   "execution_count": 75,
   "metadata": {},
   "outputs": [
    {
     "name": "stdout",
     "output_type": "stream",
     "text": [
      "0    False\n",
      "1    False\n",
      "2     True\n",
      "Name: city08, dtype: bool\n",
      "execution time: 0.00356292724609375\n"
     ]
    },
    {
     "name": "stderr",
     "output_type": "stream",
     "text": [
      "/var/folders/dy/98lp64856sn6kt9gr7cdbq1h0000gn/T/ipykernel_1399/933528477.py:5: DtypeWarning: Columns (68,70,71,72,73,74,76,79) have mixed types. Specify dtype option on import or set low_memory=False.\n",
      "  df = pd.read_csv('./data/vehicles.csv.zip')\n"
     ]
    }
   ],
   "source": [
    "import pandas as pd\n",
    "import numpy as np\n",
    "import time\n",
    "\n",
    "df = pd.read_csv('./data/vehicles.csv.zip')\n",
    "city_mpg = df.city08\n",
    "\n",
    "start = time.time()\n",
    "def gt20(s):\n",
    "    return s > 20\n",
    "\n",
    "print(city_mpg.apply(gt20).head(3))\n",
    "end = time.time()\n",
    "print(f'execution time: {end - start}')"
   ]
  },
  {
   "cell_type": "code",
   "execution_count": 78,
   "metadata": {},
   "outputs": [
    {
     "name": "stdout",
     "output_type": "stream",
     "text": [
      "0    False\n",
      "1    False\n",
      "2     True\n",
      "Name: city08, dtype: bool\n",
      "execution time: 0.0009326934814453125\n"
     ]
    }
   ],
   "source": [
    "start = time.time()\n",
    "print(city_mpg.gt(20).head(3))\n",
    "end = time.time()\n",
    "print(f'execution time: {end - start}')"
   ]
  }
 ],
 "metadata": {
  "kernelspec": {
   "display_name": "Python 3.10.7 ('venv': venv)",
   "language": "python",
   "name": "python3"
  },
  "language_info": {
   "codemirror_mode": {
    "name": "ipython",
    "version": 3
   },
   "file_extension": ".py",
   "mimetype": "text/x-python",
   "name": "python",
   "nbconvert_exporter": "python",
   "pygments_lexer": "ipython3",
   "version": "3.10.7"
  },
  "orig_nbformat": 4,
  "vscode": {
   "interpreter": {
    "hash": "241817aec4ec74f4a353cf982090d75f94ff3c4db5e9e05e869669ee1f7c774d"
   }
  }
 },
 "nbformat": 4,
 "nbformat_minor": 2
}
