{
 "cells": [
  {
   "cell_type": "code",
   "execution_count": 6,
   "metadata": {},
   "outputs": [
    {
     "name": "stdout",
     "output_type": "stream",
     "text": [
      "\n",
      "INSTALLED VERSIONS\n",
      "------------------\n",
      "commit           : 91111fd99898d9dcaa6bf6bedb662db4108da6e6\n",
      "python           : 3.10.7.final.0\n",
      "python-bits      : 64\n",
      "OS               : Darwin\n",
      "OS-release       : 21.6.0\n",
      "Version          : Darwin Kernel Version 21.6.0: Mon Aug 22 20:20:05 PDT 2022; root:xnu-8020.140.49~2/RELEASE_ARM64_T8101\n",
      "machine          : arm64\n",
      "processor        : arm\n",
      "byteorder        : little\n",
      "LC_ALL           : None\n",
      "LANG             : None\n",
      "LOCALE           : None.UTF-8\n",
      "\n",
      "pandas           : 1.5.1\n",
      "numpy            : 1.23.5\n",
      "pytz             : 2022.6\n",
      "dateutil         : 2.8.2\n",
      "setuptools       : 63.2.0\n",
      "pip              : 22.3.1\n",
      "Cython           : None\n",
      "pytest           : None\n",
      "hypothesis       : None\n",
      "sphinx           : None\n",
      "blosc            : None\n",
      "feather          : None\n",
      "xlsxwriter       : None\n",
      "lxml.etree       : None\n",
      "html5lib         : None\n",
      "pymysql          : None\n",
      "psycopg2         : None\n",
      "jinja2           : None\n",
      "IPython          : 8.6.0\n",
      "pandas_datareader: None\n",
      "bs4              : None\n",
      "bottleneck       : None\n",
      "brotli           : None\n",
      "fastparquet      : None\n",
      "fsspec           : None\n",
      "gcsfs            : None\n",
      "matplotlib       : None\n",
      "numba            : None\n",
      "numexpr          : None\n",
      "odfpy            : None\n",
      "openpyxl         : None\n",
      "pandas_gbq       : None\n",
      "pyarrow          : None\n",
      "pyreadstat       : None\n",
      "pyxlsb           : None\n",
      "s3fs             : None\n",
      "scipy            : None\n",
      "snappy           : None\n",
      "sqlalchemy       : None\n",
      "tables           : None\n",
      "tabulate         : None\n",
      "xarray           : None\n",
      "xlrd             : None\n",
      "xlwt             : None\n",
      "zstandard        : None\n",
      "tzdata           : None\n"
     ]
    },
    {
     "name": "stderr",
     "output_type": "stream",
     "text": [
      "/Users/python_poseur/pandas_thoughts/venv/lib/python3.10/site-packages/_distutils_hack/__init__.py:33: UserWarning: Setuptools is replacing distutils.\n",
      "  warnings.warn(\"Setuptools is replacing distutils.\")\n"
     ]
    }
   ],
   "source": [
    "import pandas\n",
    "\n",
    "pandas.show_versions()"
   ]
  },
  {
   "cell_type": "code",
   "execution_count": 24,
   "metadata": {},
   "outputs": [
    {
     "name": "stdout",
     "output_type": "stream",
     "text": [
      "float64 Series:\n",
      "a    2.0\n",
      "b    NaN\n",
      "Name: float_series, dtype: float64\n",
      "int64 series:\n",
      "0       2\n",
      "1    <NA>\n",
      "Name: integer_series, dtype: Int64\n",
      "1 1\n"
     ]
    }
   ],
   "source": [
    "import pandas as pd\n",
    "import numpy as np\n",
    "\n",
    "f_s = pd.Series([2, np.nan], index=['a', 'b'], name='float_series')\n",
    "# NaN - Not a Number Float Type\n",
    "print(f'float64 Series:\\n{f_s}')\n",
    "\n",
    "i_s = pd.Series([2, None], name='integer_series', dtype='Int64')\n",
    "# NA - Nullable Integer Type\n",
    "print(f'int64 series:\\n{i_s}')\n",
    "\n",
    "cnt_f_s = f_s.count()\n",
    "cnt_i_s = i_s.count()\n",
    "print(f'{cnt_f_s} {cnt_i_s}')"
   ]
  },
  {
   "cell_type": "code",
   "execution_count": 35,
   "metadata": {},
   "outputs": [
    {
     "name": "stdout",
     "output_type": "stream",
     "text": [
      "Masha     2.5\n",
      "Arthur    2.1\n",
      "Egor      1.9\n",
      "Slava     1.5\n",
      "Name: scores, dtype: float64\n",
      "[2.5 2.1 1.9 1.5]\n",
      "Masha     2.5\n",
      "Arthur    2.1\n",
      "Name: scores, dtype: float64\n",
      "[2.5 2.1]\n"
     ]
    }
   ],
   "source": [
    "# import pandas as pd\n",
    "# import numpy as np\n",
    "\n",
    "data = [2.5, 2.1, 1.9, 1.5]\n",
    "s = pd.Series(data, index=['Masha', 'Arthur', 'Egor', 'Slava'], name='scores')\n",
    "a = np.array(data)\n",
    "# print(f'{s}\\n{a}')\n",
    "\n",
    "m_s, m_a = s.median(), np.median(a)\n",
    "print(f'{s[s > m_s]}\\n{a[a > m_a]}')"
   ]
  },
  {
   "cell_type": "code",
   "execution_count": 43,
   "metadata": {},
   "outputs": [
    {
     "name": "stdout",
     "output_type": "stream",
     "text": [
      "0    a\n",
      "1    b\n",
      "2    c\n",
      "3    a\n",
      "dtype: category\n",
      "Categories (3, object): ['a', 'b', 'c']\n",
      "0    a\n",
      "1    b\n",
      "2    c\n",
      "3    a\n",
      "dtype: object\n",
      "430 376\n",
      "28 32\n"
     ]
    }
   ],
   "source": [
    "# import pandas as pd\n",
    "# import numpy as np\n",
    "import sys\n",
    "\n",
    "data = ['a', 'b', 'c', 'a']\n",
    "c_s = pd.Series(data, dtype='category')\n",
    "s = pd.Series(data)\n",
    "print(f'{c_s}\\n{s}')\n",
    "# nbytes return the size of the store data, while getsizeof returns the size of the entire array at creation\n",
    "print(sys.getsizeof(c_s), sys.getsizeof(s))\n",
    "print(c_s.nbytes, s.nbytes)"
   ]
  },
  {
   "cell_type": "code",
   "execution_count": 8,
   "metadata": {},
   "outputs": [
    {
     "name": "stdout",
     "output_type": "stream",
     "text": [
      "3    11\n",
      "4    11\n",
      "5    11\n",
      "6    12\n",
      "Name: temperature, dtype: int64\n",
      "0      red\n",
      "1     blue\n",
      "2    green\n",
      "Name: colors, dtype: category\n",
      "Categories (3, object): ['blue', 'green', 'red'] 27\n"
     ]
    }
   ],
   "source": [
    "# Create a series with the temperature values for the last seven days.\n",
    "# Filter out the values below the mean.\n",
    "import pandas as pd\n",
    "\n",
    "# Yerevan\n",
    "data = [16, 15, 15, 11, 11, 11, 12]\n",
    "s = pd.Series(data, name='temperature')\n",
    "print(s[s < s.mean()])\n",
    "\n",
    "# Create a series with your favorite colors. Use a categorical type.\n",
    "data = ['red', 'blue', 'green']\n",
    "s = pd.Series(data, name='colors', dtype='category')\n",
    "print(s, s.nbytes)"
   ]
  },
  {
   "cell_type": "code",
   "execution_count": 2,
   "metadata": {},
   "outputs": [
    {
     "name": "stdout",
     "output_type": "stream",
     "text": [
      "Index            128\n",
      "barrels08     329152\n",
      "barrelsA08    329152\n",
      "charge120     329152\n",
      "charge240     329152\n",
      "               ...  \n",
      "modifiedOn    329152\n",
      "startStop     329152\n",
      "phevCity      329152\n",
      "phevHwy       329152\n",
      "phevComb      329152\n",
      "Length: 84, dtype: int64\n",
      "(41144, 83)\n"
     ]
    },
    {
     "name": "stderr",
     "output_type": "stream",
     "text": [
      "/var/folders/dy/98lp64856sn6kt9gr7cdbq1h0000gn/T/ipykernel_1155/43164019.py:4: DtypeWarning: Columns (68,70,71,72,73,74,76,79) have mixed types. Specify dtype option on import or set low_memory=False.\n",
      "  df = pd.read_csv('./data/vehicles.csv.zip')\n"
     ]
    },
    {
     "data": {
      "text/html": [
       "<div>\n",
       "<style scoped>\n",
       "    .dataframe tbody tr th:only-of-type {\n",
       "        vertical-align: middle;\n",
       "    }\n",
       "\n",
       "    .dataframe tbody tr th {\n",
       "        vertical-align: top;\n",
       "    }\n",
       "\n",
       "    .dataframe thead th {\n",
       "        text-align: right;\n",
       "    }\n",
       "</style>\n",
       "<table border=\"1\" class=\"dataframe\">\n",
       "  <thead>\n",
       "    <tr style=\"text-align: right;\">\n",
       "      <th></th>\n",
       "      <th>barrels08</th>\n",
       "      <th>barrelsA08</th>\n",
       "      <th>charge120</th>\n",
       "      <th>charge240</th>\n",
       "      <th>city08</th>\n",
       "      <th>city08U</th>\n",
       "      <th>cityA08</th>\n",
       "      <th>cityA08U</th>\n",
       "      <th>cityCD</th>\n",
       "      <th>cityE</th>\n",
       "      <th>...</th>\n",
       "      <th>mfrCode</th>\n",
       "      <th>c240Dscr</th>\n",
       "      <th>charge240b</th>\n",
       "      <th>c240bDscr</th>\n",
       "      <th>createdOn</th>\n",
       "      <th>modifiedOn</th>\n",
       "      <th>startStop</th>\n",
       "      <th>phevCity</th>\n",
       "      <th>phevHwy</th>\n",
       "      <th>phevComb</th>\n",
       "    </tr>\n",
       "  </thead>\n",
       "  <tbody>\n",
       "    <tr>\n",
       "      <th>0</th>\n",
       "      <td>15.695714</td>\n",
       "      <td>0.0</td>\n",
       "      <td>0.0</td>\n",
       "      <td>0.0</td>\n",
       "      <td>19</td>\n",
       "      <td>0.0</td>\n",
       "      <td>0</td>\n",
       "      <td>0.0</td>\n",
       "      <td>0.0</td>\n",
       "      <td>0.0</td>\n",
       "      <td>...</td>\n",
       "      <td>NaN</td>\n",
       "      <td>NaN</td>\n",
       "      <td>0.0</td>\n",
       "      <td>NaN</td>\n",
       "      <td>Tue Jan 01 00:00:00 EST 2013</td>\n",
       "      <td>Tue Jan 01 00:00:00 EST 2013</td>\n",
       "      <td>NaN</td>\n",
       "      <td>0</td>\n",
       "      <td>0</td>\n",
       "      <td>0</td>\n",
       "    </tr>\n",
       "    <tr>\n",
       "      <th>1</th>\n",
       "      <td>29.964545</td>\n",
       "      <td>0.0</td>\n",
       "      <td>0.0</td>\n",
       "      <td>0.0</td>\n",
       "      <td>9</td>\n",
       "      <td>0.0</td>\n",
       "      <td>0</td>\n",
       "      <td>0.0</td>\n",
       "      <td>0.0</td>\n",
       "      <td>0.0</td>\n",
       "      <td>...</td>\n",
       "      <td>NaN</td>\n",
       "      <td>NaN</td>\n",
       "      <td>0.0</td>\n",
       "      <td>NaN</td>\n",
       "      <td>Tue Jan 01 00:00:00 EST 2013</td>\n",
       "      <td>Tue Jan 01 00:00:00 EST 2013</td>\n",
       "      <td>NaN</td>\n",
       "      <td>0</td>\n",
       "      <td>0</td>\n",
       "      <td>0</td>\n",
       "    </tr>\n",
       "    <tr>\n",
       "      <th>2</th>\n",
       "      <td>12.207778</td>\n",
       "      <td>0.0</td>\n",
       "      <td>0.0</td>\n",
       "      <td>0.0</td>\n",
       "      <td>23</td>\n",
       "      <td>0.0</td>\n",
       "      <td>0</td>\n",
       "      <td>0.0</td>\n",
       "      <td>0.0</td>\n",
       "      <td>0.0</td>\n",
       "      <td>...</td>\n",
       "      <td>NaN</td>\n",
       "      <td>NaN</td>\n",
       "      <td>0.0</td>\n",
       "      <td>NaN</td>\n",
       "      <td>Tue Jan 01 00:00:00 EST 2013</td>\n",
       "      <td>Tue Jan 01 00:00:00 EST 2013</td>\n",
       "      <td>NaN</td>\n",
       "      <td>0</td>\n",
       "      <td>0</td>\n",
       "      <td>0</td>\n",
       "    </tr>\n",
       "    <tr>\n",
       "      <th>3</th>\n",
       "      <td>29.964545</td>\n",
       "      <td>0.0</td>\n",
       "      <td>0.0</td>\n",
       "      <td>0.0</td>\n",
       "      <td>10</td>\n",
       "      <td>0.0</td>\n",
       "      <td>0</td>\n",
       "      <td>0.0</td>\n",
       "      <td>0.0</td>\n",
       "      <td>0.0</td>\n",
       "      <td>...</td>\n",
       "      <td>NaN</td>\n",
       "      <td>NaN</td>\n",
       "      <td>0.0</td>\n",
       "      <td>NaN</td>\n",
       "      <td>Tue Jan 01 00:00:00 EST 2013</td>\n",
       "      <td>Tue Jan 01 00:00:00 EST 2013</td>\n",
       "      <td>NaN</td>\n",
       "      <td>0</td>\n",
       "      <td>0</td>\n",
       "      <td>0</td>\n",
       "    </tr>\n",
       "    <tr>\n",
       "      <th>4</th>\n",
       "      <td>17.347895</td>\n",
       "      <td>0.0</td>\n",
       "      <td>0.0</td>\n",
       "      <td>0.0</td>\n",
       "      <td>17</td>\n",
       "      <td>0.0</td>\n",
       "      <td>0</td>\n",
       "      <td>0.0</td>\n",
       "      <td>0.0</td>\n",
       "      <td>0.0</td>\n",
       "      <td>...</td>\n",
       "      <td>NaN</td>\n",
       "      <td>NaN</td>\n",
       "      <td>0.0</td>\n",
       "      <td>NaN</td>\n",
       "      <td>Tue Jan 01 00:00:00 EST 2013</td>\n",
       "      <td>Tue Jan 01 00:00:00 EST 2013</td>\n",
       "      <td>NaN</td>\n",
       "      <td>0</td>\n",
       "      <td>0</td>\n",
       "      <td>0</td>\n",
       "    </tr>\n",
       "  </tbody>\n",
       "</table>\n",
       "<p>5 rows × 83 columns</p>\n",
       "</div>"
      ],
      "text/plain": [
       "   barrels08  barrelsA08  charge120  charge240  city08  city08U  cityA08  \\\n",
       "0  15.695714         0.0        0.0        0.0      19      0.0        0   \n",
       "1  29.964545         0.0        0.0        0.0       9      0.0        0   \n",
       "2  12.207778         0.0        0.0        0.0      23      0.0        0   \n",
       "3  29.964545         0.0        0.0        0.0      10      0.0        0   \n",
       "4  17.347895         0.0        0.0        0.0      17      0.0        0   \n",
       "\n",
       "   cityA08U  cityCD  cityE  ...  mfrCode  c240Dscr  charge240b  c240bDscr  \\\n",
       "0       0.0     0.0    0.0  ...      NaN       NaN         0.0        NaN   \n",
       "1       0.0     0.0    0.0  ...      NaN       NaN         0.0        NaN   \n",
       "2       0.0     0.0    0.0  ...      NaN       NaN         0.0        NaN   \n",
       "3       0.0     0.0    0.0  ...      NaN       NaN         0.0        NaN   \n",
       "4       0.0     0.0    0.0  ...      NaN       NaN         0.0        NaN   \n",
       "\n",
       "                      createdOn                    modifiedOn  startStop  \\\n",
       "0  Tue Jan 01 00:00:00 EST 2013  Tue Jan 01 00:00:00 EST 2013        NaN   \n",
       "1  Tue Jan 01 00:00:00 EST 2013  Tue Jan 01 00:00:00 EST 2013        NaN   \n",
       "2  Tue Jan 01 00:00:00 EST 2013  Tue Jan 01 00:00:00 EST 2013        NaN   \n",
       "3  Tue Jan 01 00:00:00 EST 2013  Tue Jan 01 00:00:00 EST 2013        NaN   \n",
       "4  Tue Jan 01 00:00:00 EST 2013  Tue Jan 01 00:00:00 EST 2013        NaN   \n",
       "\n",
       "   phevCity  phevHwy  phevComb  \n",
       "0         0        0         0  \n",
       "1         0        0         0  \n",
       "2         0        0         0  \n",
       "3         0        0         0  \n",
       "4         0        0         0  \n",
       "\n",
       "[5 rows x 83 columns]"
      ]
     },
     "execution_count": 2,
     "metadata": {},
     "output_type": "execute_result"
    }
   ],
   "source": [
    "import pandas as pd\n",
    "import numpy as np\n",
    "\n",
    "df = pd.read_csv('./data/vehicles.csv.zip')\n",
    "print(f'{df.memory_usage()}\\n{df.shape}')\n",
    "df.head()"
   ]
  },
  {
   "cell_type": "code",
   "execution_count": 24,
   "metadata": {},
   "outputs": [
    {
     "data": {
      "text/plain": [
       "0        22.0\n",
       "1        11.5\n",
       "2        28.0\n",
       "3        11.0\n",
       "4        20.0\n",
       "         ... \n",
       "41139    22.5\n",
       "41140    24.0\n",
       "41141    21.0\n",
       "41142    21.0\n",
       "41143    18.5\n",
       "Length: 41144, dtype: float64"
      ]
     },
     "execution_count": 24,
     "metadata": {},
     "output_type": "execute_result"
    }
   ],
   "source": [
    "city_mpg = df.city08\n",
    "highway_mpg = df.highway08\n",
    "am = (city_mpg + highway_mpg) / 2\n",
    "am"
   ]
  },
  {
   "cell_type": "code",
   "execution_count": 20,
   "metadata": {},
   "outputs": [
    {
     "data": {
      "text/plain": [
       "0     1\n",
       "1    11\n",
       "2    21\n",
       "3    31\n",
       "dtype: int64"
      ]
     },
     "execution_count": 20,
     "metadata": {},
     "output_type": "execute_result"
    }
   ],
   "source": [
    "data = ['a', 'b', 'c', 'd']\n",
    "# str methods access\n",
    "str_s = pd.Series(data).str\n",
    "str_s.upper()\n",
    "\n",
    "# datetime methods access\n",
    "dt_s = pd.Series(pd.date_range('2022-01-01', periods=4, freq='10D')).dt\n",
    "dt_s.day"
   ]
  },
  {
   "cell_type": "code",
   "execution_count": 2,
   "metadata": {},
   "outputs": [
    {
     "data": {
      "text/plain": [
       "1    8.0\n",
       "2    7.0\n",
       "2    8.0\n",
       "2    8.0\n",
       "2    9.0\n",
       "3    NaN\n",
       "4    NaN\n",
       "dtype: float64"
      ]
     },
     "execution_count": 2,
     "metadata": {},
     "output_type": "execute_result"
    }
   ],
   "source": [
    "import pandas as pd\n",
    "\n",
    "s_1 = pd.Series([1, 2, 3, 4], index=[1, 2, 2, 3], name='s_1')\n",
    "s_2 = pd.Series([5, 6, 7, 8], index=[2, 2, 1, 4], name='s_2')\n",
    "\n",
    "r_s = s_1 + s_2\n",
    "r_s"
   ]
  },
  {
   "cell_type": "code",
   "execution_count": 3,
   "metadata": {},
   "outputs": [
    {
     "data": {
      "text/plain": [
       "1    8.0\n",
       "2    7.0\n",
       "2    8.0\n",
       "2    8.0\n",
       "2    9.0\n",
       "3    4.0\n",
       "4    8.0\n",
       "dtype: float64"
      ]
     },
     "execution_count": 3,
     "metadata": {},
     "output_type": "execute_result"
    }
   ],
   "source": [
    "r_s = s_1.add(s_2, fill_value=0)\n",
    "r_s"
   ]
  },
  {
   "cell_type": "code",
   "execution_count": 10,
   "metadata": {},
   "outputs": [
    {
     "name": "stdout",
     "output_type": "stream",
     "text": [
      "0     0\n",
      "1     4\n",
      "2     8\n",
      "3    12\n",
      "4    16\n",
      "Name: evens, dtype: int64\n",
      "0    10\n",
      "1    12\n",
      "2    14\n",
      "3    16\n",
      "4    18\n",
      "Name: evens, dtype: int64\n",
      "0     0\n",
      "1     4\n",
      "2     8\n",
      "3    12\n",
      "4    16\n",
      "Name: evens, dtype: int64\n"
     ]
    }
   ],
   "source": [
    "import pandas as pd\n",
    "import numpy as np\n",
    "\n",
    "s = pd.Series(range(0, 10, 2), name='evens')\n",
    "\n",
    "# Add a numeric series to itself\n",
    "print(s + s)\n",
    "\n",
    "# Add 10 to a numeric series\n",
    "print(s + 10)\n",
    "\n",
    "# Add a numeric series to itself using the .add method\n",
    "print(s.add(s))"
   ]
  },
  {
   "cell_type": "code",
   "execution_count": 14,
   "metadata": {},
   "outputs": [
    {
     "name": "stdout",
     "output_type": "stream",
     "text": [
      "17.0\n",
      "17.0\n",
      "0.1    13.0\n",
      "0.8    21.0\n",
      "0.9    24.0\n",
      "Name: city08, dtype: float64\n"
     ]
    },
    {
     "name": "stderr",
     "output_type": "stream",
     "text": [
      "/var/folders/dy/98lp64856sn6kt9gr7cdbq1h0000gn/T/ipykernel_1399/1657652194.py:3: DtypeWarning: Columns (68,70,71,72,73,74,76,79) have mixed types. Specify dtype option on import or set low_memory=False.\n",
      "  df = pd.read_csv('./data/vehicles.csv.zip')\n"
     ]
    }
   ],
   "source": [
    "import pandas as pd\n",
    "\n",
    "df = pd.read_csv('./data/vehicles.csv.zip')\n",
    "city_mpg = df.city08\n",
    "highway_mpg = df.highway08\n",
    "\n",
    "print(city_mpg.quantile(), city_mpg.quantile(0.5), city_mpg.quantile([0.1, 0.8, 0.9]), sep='\\n')\n",
    "# 13 is a value below which is 10 percent of the sample"
   ]
  },
  {
   "cell_type": "code",
   "execution_count": 22,
   "metadata": {},
   "outputs": [
    {
     "name": "stdout",
     "output_type": "stream",
     "text": [
      "41144\n",
      "10272\n"
     ]
    },
    {
     "data": {
      "text/plain": [
       "267580"
      ]
     },
     "execution_count": 22,
     "metadata": {},
     "output_type": "execute_result"
    }
   ],
   "source": [
    "print(city_mpg.count())\n",
    "\n",
    "# amount of values greater than 20 (trick)\n",
    "print(city_mpg.gt(20).sum())\n",
    "# sum of values greater than 20\n",
    "city_mpg[city_mpg > 20].sum()"
   ]
  },
  {
   "cell_type": "code",
   "execution_count": 24,
   "metadata": {},
   "outputs": [
    {
     "data": {
      "text/plain": [
       "mean               18.369045\n",
       "var                62.503036\n",
       "max               150.000000\n",
       "cnt_of_evens    19742.000000\n",
       "Name: city08, dtype: float64"
      ]
     },
     "execution_count": 24,
     "metadata": {},
     "output_type": "execute_result"
    }
   ],
   "source": [
    "import numpy as np\n",
    "import pandas as pd\n",
    "\n",
    "\n",
    "def cnt_of_evens(s: pd.Series) -> int:\n",
    "    r = s[s % 2 == 0].count()\n",
    "    return r\n",
    "\n",
    "# 'mean' - find inside Series class\n",
    "city_mpg.agg(['mean', np.var, max, cnt_of_evens])"
   ]
  },
  {
   "cell_type": "code",
   "execution_count": 40,
   "metadata": {},
   "outputs": [
    {
     "name": "stdout",
     "output_type": "stream",
     "text": [
      "5\n",
      "8\n",
      "5\n",
      "3.0\n",
      "5.0\n"
     ]
    },
    {
     "data": {
      "text/plain": [
       "count      5.0\n",
       "size       8.0\n",
       "nunique    5.0\n",
       "mean       3.0\n",
       "max        5.0\n",
       "Name: digits, dtype: float64"
      ]
     },
     "execution_count": 40,
     "metadata": {},
     "output_type": "execute_result"
    }
   ],
   "source": [
    "import pandas as pd\n",
    "import numpy as np\n",
    "\n",
    "data = [1, 2, np.nan, 3, 4, np.nan, 5, np.nan]\n",
    "s = pd.Series(data, name='digits')\n",
    "\n",
    "# Find the count of non-missing values of a series\n",
    "print(s.count())\n",
    "\n",
    "# Find the number of entries of a series\n",
    "print(s.size)\n",
    "\n",
    "# Find the number of unique entries of a series\n",
    "print(s.nunique())\n",
    "\n",
    "# Find the mean value of a series\n",
    "print(s.mean())\n",
    "\n",
    "# Find the maximum value of a series\n",
    "print(s.max())\n",
    "\n",
    "# Use the .agg method to find all of the above\n",
    "s.agg(['count', 'size', 'nunique', 'mean', max])"
   ]
  },
  {
   "cell_type": "code",
   "execution_count": 63,
   "metadata": {},
   "outputs": [
    {
     "name": "stdout",
     "output_type": "stream",
     "text": [
      "Machine parameters for int8\n",
      "---------------------------------------------------------------\n",
      "min = -128\n",
      "max = 127\n",
      "---------------------------------------------------------------\n",
      "\n",
      "Machine parameters for int16\n",
      "---------------------------------------------------------------\n",
      "min = -32768\n",
      "max = 32767\n",
      "---------------------------------------------------------------\n",
      "\n",
      "how mush memory int64 object is taking: 329152\n",
      "how mush memory int16 object is taking: 123432\n",
      "how many times more: 2.6666666666666665\n"
     ]
    },
    {
     "name": "stderr",
     "output_type": "stream",
     "text": [
      "/var/folders/dy/98lp64856sn6kt9gr7cdbq1h0000gn/T/ipykernel_1399/2970352403.py:4: DtypeWarning: Columns (68,70,71,72,73,74,76,79) have mixed types. Specify dtype option on import or set low_memory=False.\n",
      "  df = pd.read_csv('./data/vehicles.csv.zip')\n"
     ]
    }
   ],
   "source": [
    "import pandas as pd\n",
    "import numpy as np\n",
    "\n",
    "df = pd.read_csv('./data/vehicles.csv.zip')\n",
    "city_mpg = df.city08\n",
    "highway_mpg = df.highway08\n",
    "\n",
    "print(np.iinfo('int8'), np.iinfo('int16'), sep='\\n')\n",
    "\n",
    "# city_mpg.astype('Int8')\n",
    "nb_int64, nb_int16 = city_mpg.nbytes, city_mpg.astype('Int16').nbytes\n",
    "print(f'''how mush memory int64 object is taking: {nb_int64}\n",
    "how mush memory int16 object is taking: {nb_int16}''')\n",
    "\n",
    "print(f'how many times more: {nb_int64 / nb_int16}')"
   ]
  },
  {
   "cell_type": "code",
   "execution_count": 55,
   "metadata": {},
   "outputs": [
    {
     "name": "stdout",
     "output_type": "stream",
     "text": [
      "0    Alfa Romeo\n",
      "1       Ferrari\n",
      "2         Dodge\n",
      "Name: make, dtype: object\n",
      "How much memory the Pandas object is taking: 329152\n",
      "How much memory the Pandas + Python objects are taking: 2606395\n"
     ]
    }
   ],
   "source": [
    "# Memory usage\n",
    "make = df.make\n",
    "nb_pd, nb_pd_py = make.nbytes, make.memory_usage(deep=True)\n",
    "print(make.head(3))\n",
    "\n",
    "print(f'How much memory the Pandas object is taking: {nb_pd}')\n",
    "print(f'How much memory the Pandas + Python objects are taking: {nb_pd_py}')"
   ]
  },
  {
   "cell_type": "code",
   "execution_count": 64,
   "metadata": {},
   "outputs": [
    {
     "name": "stdout",
     "output_type": "stream",
     "text": [
      "memory usage without categorical type: 2606395\n",
      "memory usage using categorical data type: 95888\n",
      "how many times more: 27.18165985316202\n"
     ]
    }
   ],
   "source": [
    "# for a lot of duplicates it is much better to using categorical data type\n",
    "cat_make = make.astype('category')\n",
    "\n",
    "m_make, m_cat_make = make.memory_usage(deep=True), cat_make.memory_usage(deep=True)\n",
    "\n",
    "print(f'memory usage without categorical type: {m_make}')\n",
    "print(f'memory usage using categorical data type: {m_cat_make}')\n",
    "print(f'how many times more: {m_make / m_cat_make}') #!!!"
   ]
  },
  {
   "cell_type": "code",
   "execution_count": 70,
   "metadata": {},
   "outputs": [
    {
     "name": "stdout",
     "output_type": "stream",
     "text": [
      "num_s int64: 208\n",
      "num_s int8: 138\n",
      "memory usage for str_s: 708\n",
      "memory usage for cat_str_s: 600\n"
     ]
    }
   ],
   "source": [
    "import pandas as pd\n",
    "import numpy as np\n",
    "\n",
    "str_s = pd.Series(list('aabbccddee'), name='chars')\n",
    "num_s = pd.Series(range(10), name='digits')\n",
    "\n",
    "# Convert a numeric column to a smaller type\n",
    "# Calculate the memory savings by converting to smaller numeric types\n",
    "int64_num_s, int8_num_s = num_s.memory_usage(deep=True), num_s.astype(np.int8).memory_usage(deep=True)\n",
    "print(f'num_s int64: {int64_num_s}\\nnum_s int8: {int8_num_s}')\n",
    "\n",
    "# Convert a string column into a categorical type (dublicates!!!)\n",
    "# Calculate the memory savings by converting to a categorical type\n",
    "obj_str, cat_str_s = str_s.memory_usage(deep=True), str_s.astype('category').memory_usage(deep=True)\n",
    "print(f'memory usage for str_s: {obj_str}\\nmemory usage for cat_str_s: {cat_str_s}')"
   ]
  },
  {
   "cell_type": "code",
   "execution_count": 75,
   "metadata": {},
   "outputs": [
    {
     "name": "stdout",
     "output_type": "stream",
     "text": [
      "0    False\n",
      "1    False\n",
      "2     True\n",
      "Name: city08, dtype: bool\n",
      "execution time: 0.00356292724609375\n"
     ]
    },
    {
     "name": "stderr",
     "output_type": "stream",
     "text": [
      "/var/folders/dy/98lp64856sn6kt9gr7cdbq1h0000gn/T/ipykernel_1399/933528477.py:5: DtypeWarning: Columns (68,70,71,72,73,74,76,79) have mixed types. Specify dtype option on import or set low_memory=False.\n",
      "  df = pd.read_csv('./data/vehicles.csv.zip')\n"
     ]
    }
   ],
   "source": [
    "import pandas as pd\n",
    "import numpy as np\n",
    "import time\n",
    "\n",
    "df = pd.read_csv('./data/vehicles.csv.zip')\n",
    "city_mpg = df.city08\n",
    "\n",
    "start = time.time()\n",
    "def gt20(s):\n",
    "    return s > 20\n",
    "\n",
    "print(city_mpg.apply(gt20).head(3))\n",
    "end = time.time()\n",
    "print(f'execution time: {end - start}')"
   ]
  },
  {
   "cell_type": "code",
   "execution_count": 79,
   "metadata": {},
   "outputs": [
    {
     "name": "stdout",
     "output_type": "stream",
     "text": [
      "0    False\n",
      "1    False\n",
      "2     True\n",
      "Name: city08, dtype: bool\n",
      "execution time: 0.0005371570587158203\n"
     ]
    }
   ],
   "source": [
    "start = time.time()\n",
    "print(city_mpg.gt(20).head(3))\n",
    "end = time.time()\n",
    "print(f'execution time: {end - start}')"
   ]
  },
  {
   "cell_type": "code",
   "execution_count": 20,
   "metadata": {},
   "outputs": [
    {
     "name": "stdout",
     "output_type": "stream",
     "text": [
      "result:\n",
      "0    Other\n",
      "1    Other\n",
      "2    Dodge\n",
      "Name: make, dtype: object\n",
      "execution time: 16.526ms\n"
     ]
    },
    {
     "name": "stderr",
     "output_type": "stream",
     "text": [
      "/var/folders/dy/98lp64856sn6kt9gr7cdbq1h0000gn/T/ipykernel_3125/1210504115.py:4: DtypeWarning: Columns (68,70,71,72,73,74,76,79) have mixed types. Specify dtype option on import or set low_memory=False.\n",
      "  df = pd.read_csv('./data/vehicles.csv.zip')\n"
     ]
    }
   ],
   "source": [
    "import pandas as pd\n",
    "import time\n",
    "\n",
    "df = pd.read_csv('./data/vehicles.csv.zip')\n",
    "make = df.make\n",
    "\n",
    "top5 = make.value_counts().index[:5]\n",
    "\n",
    "start = time.time()\n",
    "def get_5_and_other(s):\n",
    "    if s in top5:\n",
    "        return s\n",
    "    return 'Other'\n",
    "\n",
    "r = make.apply(get_5_and_other)\n",
    "end = time.time()\n",
    "\n",
    "print(f'result:\\n{r.head(3)}\\nexecution time: {(end - start)*(10**3):.3f}ms')"
   ]
  },
  {
   "cell_type": "code",
   "execution_count": 21,
   "metadata": {},
   "outputs": [
    {
     "name": "stdout",
     "output_type": "stream",
     "text": [
      "result:\n",
      "0    Other\n",
      "1    Other\n",
      "2    Dodge\n",
      "Name: make, dtype: object\n",
      "execution time: 3.822ms\n"
     ]
    }
   ],
   "source": [
    "start = time.time()\n",
    "r = make.where(make.isin(top5), other='Other')\n",
    "end = time.time()\n",
    "\n",
    "print(f'result:\\n{r.head(3)}\\nexecution time: {(end - start)*(10**3):.3f}ms')"
   ]
  },
  {
   "cell_type": "code",
   "execution_count": 19,
   "metadata": {},
   "outputs": [
    {
     "name": "stdout",
     "output_type": "stream",
     "text": [
      "result\n",
      "0    Other\n",
      "1    Other\n",
      "2    Dodge\n",
      "Name: make, dtype: object\n",
      "execution time: 2.767ms\n"
     ]
    },
    {
     "name": "stderr",
     "output_type": "stream",
     "text": [
      "/var/folders/dy/98lp64856sn6kt9gr7cdbq1h0000gn/T/ipykernel_3125/1675160649.py:5: DtypeWarning: Columns (68,70,71,72,73,74,76,79) have mixed types. Specify dtype option on import or set low_memory=False.\n",
      "  df = pd.read_csv('./data/vehicles.csv.zip')\n"
     ]
    }
   ],
   "source": [
    "import pandas as pd\n",
    "import numpy as np\n",
    "import time\n",
    "\n",
    "df = pd.read_csv('./data/vehicles.csv.zip')\n",
    "make = df.make\n",
    "top5 = make.value_counts().index[:5]\n",
    "top10 = make.value_counts().index[:10]\n",
    "\n",
    "start = time.time()\n",
    "r = make.where(make.isin(top5), other='Top10').where(make.isin(top10), other='Other')\n",
    "end = time.time()\n",
    "\n",
    "print(f'result\\n{r.head(3)}\\nexecution time: {(end - start)*(10**3):.3f}ms')"
   ]
  },
  {
   "cell_type": "code",
   "execution_count": 18,
   "metadata": {},
   "outputs": [
    {
     "name": "stdout",
     "output_type": "stream",
     "text": [
      "result:\n",
      "['Other' 'Other' 'Dodge' ... 'Other' 'Other' 'Other']\n",
      "execution time: 6.708ms\n"
     ]
    }
   ],
   "source": [
    "start = time.time()\n",
    "r = np.select([make.isin(top5), make.isin(top10)], [make, 'Top10'], 'Other')\n",
    "end = time.time()\n",
    "\n",
    "print(f'result:\\n{r}\\nexecution time: {(end - start)*(10**3):.3f}ms')\n",
    "# where.where is faster"
   ]
  },
  {
   "cell_type": "code",
   "execution_count": 16,
   "metadata": {},
   "outputs": [
    {
     "name": "stdout",
     "output_type": "stream",
     "text": [
      "result:\n",
      "206\n",
      "execution time: 0.763ms\n"
     ]
    }
   ],
   "source": [
    "cyl = df.cylinders\n",
    "\n",
    "start = time.time()\n",
    "r = cyl.isna().sum()\n",
    "end = time.time()\n",
    "\n",
    "print(f'result:\\n{r}\\nexecution time: {(end - start)*(10**3):.3f}ms')"
   ]
  },
  {
   "cell_type": "code",
   "execution_count": 38,
   "metadata": {},
   "outputs": [
    {
     "name": "stdout",
     "output_type": "stream",
     "text": [
      "0    1.0\n",
      "1    4.0\n",
      "2    2.0\n",
      "3    3.0\n",
      "4    4.0\n",
      "5    7.0\n",
      "6    2.0\n",
      "7    9.0\n",
      "8    4.0\n",
      "Name: digits, dtype: float64\n"
     ]
    }
   ],
   "source": [
    "# fill NaN values\n",
    "import pandas as pd\n",
    "import numpy as np\n",
    "\n",
    "data = [1, 4, 2, 3, np.nan, 7, 2, 9, np.nan]\n",
    "s = pd.Series(data, name='digits')\n",
    "\n",
    "# i_s = s.interpolate()\n",
    "# print(i_s)\n",
    "\n",
    "# ff_s, bf_s = s.ffill(), s.bfill()\n",
    "# print(ff_s, bf_s, sep='\\n')\n",
    "\n",
    "fna_s = s.fillna(s.mean())\n",
    "print(fna_s)"
   ]
  },
  {
   "cell_type": "code",
   "execution_count": 39,
   "metadata": {},
   "outputs": [
    {
     "name": "stdout",
     "output_type": "stream",
     "text": [
      "result:\n",
      "47     14\n",
      "1      14\n",
      "99     14\n",
      "101    14\n",
      "80     14\n",
      "       ..\n",
      "2      18\n",
      "171    18\n",
      "163    18\n",
      "167    18\n",
      "335    18\n",
      "Name: city08, Length: 400, dtype: int64\n",
      "execution time: 1.835ms\n"
     ]
    },
    {
     "name": "stderr",
     "output_type": "stream",
     "text": [
      "/var/folders/dy/98lp64856sn6kt9gr7cdbq1h0000gn/T/ipykernel_3125/2811305534.py:5: DtypeWarning: Columns (68,70,71,72,73,74,76,79) have mixed types. Specify dtype option on import or set low_memory=False.\n",
      "  df = pd.read_csv('./data/vehicles.csv.zip')\n"
     ]
    }
   ],
   "source": [
    "import pandas as pd\n",
    "import time\n",
    "\n",
    "\n",
    "df = pd.read_csv('./data/vehicles.csv.zip')\n",
    "city_mpg = df.city08[:400]\n",
    "\n",
    "start = time.time()\n",
    "s_city_mpg = city_mpg.sort_values()\n",
    "r = s_city_mpg.clip(lower=s_city_mpg.quantile(0.25), upper=s_city_mpg.quantile(0.75))\n",
    "end = time.time()\n",
    "\n",
    "print(f'result:\\n{r}\\nexecution time: {(end - start)*(10**3):.3f}ms')"
   ]
  },
  {
   "cell_type": "code",
   "execution_count": 40,
   "metadata": {},
   "outputs": [
    {
     "name": "stdout",
     "output_type": "stream",
     "text": [
      "result:\n",
      "8147     84\n",
      "10329    87\n",
      "12922    45\n",
      "23028    59\n",
      "23029    79\n",
      "         ..\n",
      "41138    21\n",
      "41139    19\n",
      "41140    20\n",
      "41142    18\n",
      "41143    16\n",
      "Name: city08, Length: 105, dtype: int64\n",
      "execution time: 1.7101764678955078ms\n"
     ]
    }
   ],
   "source": [
    "# Dublicates\n",
    "city_mpg = df.city08\n",
    "\n",
    "start = time.time()\n",
    "u_city_mpg = city_mpg.drop_duplicates(keep='last')\n",
    "end = time.time()\n",
    "\n",
    "print(f'result:\\n{u_city_mpg}\\nexecution time: {(end - start)*(10**3)}ms')"
   ]
  },
  {
   "cell_type": "code",
   "execution_count": 43,
   "metadata": {},
   "outputs": [
    {
     "name": "stdout",
     "output_type": "stream",
     "text": [
      "result:\n",
      "0          Alfa Romeo\n",
      "1        ri-other-Fer\n",
      "2               Dodge\n",
      "3               Dodge\n",
      "4              Subaru\n",
      "             ...     \n",
      "41139          Subaru\n",
      "41140          Subaru\n",
      "41141          Subaru\n",
      "41142          Subaru\n",
      "41143          Subaru\n",
      "Name: make, Length: 41144, dtype: object\n",
      "execution time: 46.861886978149414ms\n"
     ]
    }
   ],
   "source": [
    "make = df.make\n",
    "\n",
    "start = time.time()\n",
    "r = make.replace(r'(Fer)ra(r.*)', value=r'\\2-other-\\1', regex=True)\n",
    "# r = city_mpg.replace(to_replace={18: 19, 20: 21})\n",
    "end = time.time()\n",
    "\n",
    "print(f'result:\\n{r}\\nexecution time: {(end - start)*(10**3)}ms')"
   ]
  },
  {
   "cell_type": "code",
   "execution_count": 45,
   "metadata": {},
   "outputs": [
    {
     "name": "stdout",
     "output_type": "stream",
     "text": [
      "result:\n",
      "0         (18.0, 21.0]\n",
      "1        (5.999, 14.0]\n",
      "2        (21.0, 150.0]\n",
      "3        (5.999, 14.0]\n",
      "4         (16.0, 18.0]\n",
      "             ...      \n",
      "41139     (18.0, 21.0]\n",
      "41140     (18.0, 21.0]\n",
      "41141     (16.0, 18.0]\n",
      "41142     (16.0, 18.0]\n",
      "41143     (14.0, 16.0]\n",
      "Name: city08, Length: 41144, dtype: category\n",
      "Categories (5, interval[float64, right]): [(5.999, 14.0] < (14.0, 16.0] < (16.0, 18.0] < (18.0, 21.0] < (21.0, 150.0]]\n",
      "execution time: 6.477832794189453ms\n"
     ]
    },
    {
     "name": "stderr",
     "output_type": "stream",
     "text": [
      "/var/folders/dy/98lp64856sn6kt9gr7cdbq1h0000gn/T/ipykernel_3125/638271157.py:4: DtypeWarning: Columns (68,70,71,72,73,74,76,79) have mixed types. Specify dtype option on import or set low_memory=False.\n",
      "  df = pd.read_csv('./data/vehicles.csv.zip')\n"
     ]
    }
   ],
   "source": [
    "# Partitions\n",
    "import pandas as pd\n",
    "import time \n",
    "\n",
    "df = pd.read_csv('./data/vehicles.csv.zip')\n",
    "city_mpg = df.city08\n",
    "\n",
    "start = time.time()\n",
    "r = pd.qcut(city_mpg, q=[0, 0.2, 0.4, 0.6, 0.8, 1])\n",
    "end = time.time()\n",
    "\n",
    "print(f'result:\\n{r}\\nexecution time: {(end - start)*(10**3)}ms')"
   ]
  },
  {
   "cell_type": "code",
   "execution_count": 57,
   "metadata": {},
   "outputs": [
    {
     "name": "stdout",
     "output_type": "stream",
     "text": [
      "result:\n",
      "0    high\n",
      "1     low\n",
      "2    high\n",
      "3     low\n",
      "4     low\n",
      "Name: city08, dtype: object\n",
      "execution time: 3.406ms\n",
      "r2:\n",
      "0    high\n",
      "1     low\n",
      "2    high\n",
      "3     low\n",
      "4     low\n",
      "dtype: object\n",
      "execution time: 0.600ms\n",
      "0    19\n",
      "1     9\n",
      "2    23\n",
      "3    10\n",
      "4    17\n",
      "Name: city08, dtype: int64\n",
      "0    19\n",
      "1    13\n",
      "2    23\n",
      "3    13\n",
      "4    17\n",
      "Name: city08, dtype: int64\n"
     ]
    },
    {
     "name": "stderr",
     "output_type": "stream",
     "text": [
      "/var/folders/dy/98lp64856sn6kt9gr7cdbq1h0000gn/T/ipykernel_3125/3581481396.py:5: DtypeWarning: Columns (68,70,71,72,73,74,76,79) have mixed types. Specify dtype option on import or set low_memory=False.\n",
      "  df = pd.read_csv('./data/vehicles.csv.zip')\n"
     ]
    }
   ],
   "source": [
    "import pandas as pd\n",
    "import numpy as np\n",
    "import time\n",
    "\n",
    "df = pd.read_csv('./data/vehicles.csv.zip')\n",
    "city_mpg = df.city08\n",
    "\n",
    "# Create a series from a numeric column that has the value of 'high' if it is equal to or above\n",
    "# the mean and 'low' if it is below the mean using .apply\n",
    "m = city_mpg.mean()\n",
    "\n",
    "def h_or_l(d):\n",
    "    if d >= m:\n",
    "        return 'high'\n",
    "    return 'low'\n",
    "\n",
    "s1 = time.time()\n",
    "r1 = city_mpg.apply(h_or_l)\n",
    "e1 = time.time()\n",
    "\n",
    "print(f'result:\\n{r1.head()}\\nexecution time: {(e1 - s1)*(10**3):.3f}ms')\n",
    "\n",
    "# Create a series from a numeric column that has the value of 'high' if it is equal to or above\n",
    "# the mean and 'low' if it is below the mean using np.select\n",
    "# !!! optimization !!!\n",
    "s2 = time.time()\n",
    "r2 = np.select([city_mpg >= m, city_mpg < m], ['high', 'low'])\n",
    "e2 = time.time()\n",
    "\n",
    "print(f'r2:\\n{pd.Series(r2).head()}\\nexecution time: {(e2 - s2)*(10**3):.3f}ms')\n",
    "\n",
    "# Replace the missing values of a numeric series with the median value\n",
    "r3 = city_mpg.fillna(value=city_mpg.median())\n",
    "print(r3.head())\n",
    "\n",
    "# Clip the values of a numeric series to between to 10th and 90th percentiles\n",
    "r4 = city_mpg.clip(lower=city_mpg.quantile(0.1), upper=city_mpg.quantile(0.9))\n",
    "print(r4.head())"
   ]
  },
  {
   "cell_type": "code",
   "execution_count": 59,
   "metadata": {},
   "outputs": [
    {
     "name": "stdout",
     "output_type": "stream",
     "text": [
      "result:\n",
      "0    Other\n",
      "1    Other\n",
      "2    Dodge\n",
      "3    Dodge\n",
      "4    Other\n",
      "dtype: object\n",
      "execution time: 0.10180473327636719ms\n"
     ]
    }
   ],
   "source": [
    "make = df.make.astype('category')\n",
    "\n",
    "# Make a function that takes a categorical series and a number (n) and returns a replace series\n",
    "# that replaces any value that is not in the top n most frequent values with 'Other'\n",
    "\n",
    "s = time.time()\n",
    "def rep_n(s: pd.Series, n: int) -> pd.Series:\n",
    "    topn = s.value_counts().index[:n]\n",
    "    temp_nparr = np.select([make.isin(topn)], [make], 'Other')\n",
    "    return pd.Series(temp_nparr)\n",
    "e = time.time()\n",
    "\n",
    "print(f'result:\\n{rep_n(make, 3).head()}\\nexecution time: {(e - s)*(10**3)}ms')"
   ]
  },
  {
   "cell_type": "code",
   "execution_count": 12,
   "metadata": {},
   "outputs": [
    {
     "name": "stdout",
     "output_type": "stream",
     "text": [
      "result:\n",
      "Alfa Romeo    19\n",
      "Ferrari        9\n",
      "Dodge         23\n",
      "Dodge         10\n",
      "Subaru        17\n",
      "Name: city08, dtype: int8\n"
     ]
    }
   ],
   "source": [
    "import pandas as pd\n",
    "import numpy as np\n",
    "import time\n",
    "\n",
    "\n",
    "df = pd.read_csv('./data/vehicles.csv', low_memory=False)\n",
    "# oprimization\n",
    "make = df.make.astype('category')\n",
    "city_mpg = df.city08.astype(np.int8)\n",
    "\n",
    "mi_city_mpg = city_mpg.rename(make.to_dict())\n",
    "# mi_city_mpg = city_mpg.rename(make)\n",
    "print(f'result:\\n{mi_city_mpg.head()}')"
   ]
  },
  {
   "cell_type": "code",
   "execution_count": 16,
   "metadata": {},
   "outputs": [
    {
     "data": {
      "text/plain": [
       "0    19\n",
       "1     9\n",
       "2    23\n",
       "3    10\n",
       "4    17\n",
       "Name: city08, dtype: int8"
      ]
     },
     "execution_count": 16,
     "metadata": {},
     "output_type": "execute_result"
    }
   ],
   "source": [
    "mi_city_mpg.rename_axis('make').reset_index(drop=True).head()"
   ]
  },
  {
   "cell_type": "code",
   "execution_count": 20,
   "metadata": {},
   "outputs": [
    {
     "name": "stdout",
     "output_type": "stream",
     "text": [
      "20\n",
      "Subaru    17\n",
      "Subaru    21\n",
      "Subaru    22\n",
      "Subaru    19\n",
      "Subaru    20\n",
      "Name: city08, dtype: int8\n",
      "Fisker    20\n",
      "Name: city08, dtype: int8\n"
     ]
    }
   ],
   "source": [
    "print(mi_city_mpg.loc['Fisker'], mi_city_mpg.loc['Subaru'].head(), sep='\\n')\n",
    "\n",
    "print(mi_city_mpg.loc[['Fisker']])"
   ]
  },
  {
   "cell_type": "code",
   "execution_count": 22,
   "metadata": {},
   "outputs": [
    {
     "data": {
      "text/plain": [
       "Ferrari        10\n",
       "Ferrari        13\n",
       "Ferrari        13\n",
       "Ferrari         9\n",
       "Ferrari        10\n",
       "               ..\n",
       "Lamborghini    12\n",
       "Lamborghini     9\n",
       "Lamborghini     8\n",
       "Lamborghini    13\n",
       "Lamborghini     8\n",
       "Name: city08, Length: 11210, dtype: int8"
      ]
     },
     "execution_count": 22,
     "metadata": {},
     "output_type": "execute_result"
    }
   ],
   "source": [
    "mi_city_mpg.sort_index().loc['Ferrari':'Lamborgini']"
   ]
  },
  {
   "cell_type": "code",
   "execution_count": 28,
   "metadata": {},
   "outputs": [
    {
     "data": {
      "text/plain": [
       "Tesla    101\n",
       "Tesla    101\n",
       "Tesla    101\n",
       "Tesla    102\n",
       "Tesla    101\n",
       "Tesla    101\n",
       "Tesla    102\n",
       "Tesla    102\n",
       "Tesla    101\n",
       "Tesla    102\n",
       "Tesla    101\n",
       "Tesla    120\n",
       "Tesla    120\n",
       "Tesla    120\n",
       "Tesla    120\n",
       "Tesla    102\n",
       "Tesla    101\n",
       "Tesla    115\n",
       "Tesla    104\n",
       "Name: city08, dtype: int8"
      ]
     },
     "execution_count": 28,
     "metadata": {},
     "output_type": "execute_result"
    }
   ],
   "source": [
    "mi_city_mpg.loc[mi_city_mpg > 100].loc['Tesla']"
   ]
  },
  {
   "cell_type": "code",
   "execution_count": 35,
   "metadata": {},
   "outputs": [
    {
     "name": "stdout",
     "output_type": "stream",
     "text": [
      "19\n",
      "Alfa Romeo    19\n",
      "Ferrari        9\n",
      "Dodge         23\n",
      "Dodge         10\n",
      "Subaru        17\n",
      "Name: city08, dtype: int8\n"
     ]
    },
    {
     "data": {
      "text/plain": [
       "Kia       127\n",
       "Nissan    118\n",
       "Nissan    114\n",
       "Tesla     115\n",
       "Tesla     104\n",
       "Name: city08, dtype: int8"
      ]
     },
     "execution_count": 35,
     "metadata": {},
     "output_type": "execute_result"
    }
   ],
   "source": [
    "print(mi_city_mpg.iloc[0], mi_city_mpg.iloc[0:5], sep='\\n')\n",
    "\n",
    "mask = mi_city_mpg > 100\n",
    "mi_city_mpg.iloc[mask.to_numpy()].tail()"
   ]
  },
  {
   "cell_type": "code",
   "execution_count": 36,
   "metadata": {},
   "outputs": [
    {
     "data": {
      "text/plain": [
       "Subaru    17\n",
       "Subaru    21\n",
       "Subaru    22\n",
       "Ford      18\n",
       "Ford      16\n",
       "          ..\n",
       "Subaru    19\n",
       "Subaru    20\n",
       "Subaru    18\n",
       "Subaru    18\n",
       "Subaru    16\n",
       "Name: city08, Length: 4256, dtype: int8"
      ]
     },
     "execution_count": 36,
     "metadata": {},
     "output_type": "execute_result"
    }
   ],
   "source": [
    "mi_city_mpg.filter(regex='(Ford)|(Subaru)')"
   ]
  },
  {
   "cell_type": "code",
   "execution_count": 57,
   "metadata": {},
   "outputs": [
    {
     "name": "stdout",
     "output_type": "stream",
     "text": [
      "Subaru    19\n",
      "Subaru    20\n",
      "Subaru    18\n",
      "Subaru    18\n",
      "Subaru    16\n",
      "Name: city08, dtype: int8\n",
      "100\n"
     ]
    },
    {
     "data": {
      "text/plain": [
       "20    14\n",
       "10    23\n",
       "2     23\n",
       "Name: city08, dtype: int8"
      ]
     },
     "execution_count": 57,
     "metadata": {},
     "output_type": "execute_result"
    }
   ],
   "source": [
    "import pandas as pd\n",
    "import numpy as np\n",
    "\n",
    "df = pd.read_csv('./data/vehicles.csv', low_memory=False)\n",
    "highway_mpg = df.highway08.astype(np.int8)\n",
    "make = df.make.astype('category')\n",
    "\n",
    "mi_highway_mpg = highway_mpg.rename(make)\n",
    "print(mi_city_mpg.tail())\n",
    "\n",
    "# Sort the index\n",
    "mi_city_mpg.sort_index().tail()\n",
    "\n",
    "# Set the index to monotonically increasing integers starting from 0\n",
    "s2 = mi_city_mpg.rename_axis('make').reset_index(drop=True)\n",
    "\n",
    "# Set the index to monotonically increasing integers starting from 0, then convert these to the\n",
    "# string version. Save this a s2\n",
    "s2 = s2.rename(lambda s: str(s))\n",
    "\n",
    "# Using s2, pull out one hundred entries starting at index position 10\n",
    "print(s2.iloc[10:110].size)\n",
    "\n",
    "# Usings2,createaserieswithvalueswithindexentries'20','10',and'2'\n",
    "s2.loc[['20', '10', '2']]"
   ]
  },
  {
   "cell_type": "code",
   "execution_count": null,
   "metadata": {},
   "outputs": [],
   "source": []
  }
 ],
 "metadata": {
  "kernelspec": {
   "display_name": "Python 3.10.7 ('venv': venv)",
   "language": "python",
   "name": "python3"
  },
  "language_info": {
   "codemirror_mode": {
    "name": "ipython",
    "version": 3
   },
   "file_extension": ".py",
   "mimetype": "text/x-python",
   "name": "python",
   "nbconvert_exporter": "python",
   "pygments_lexer": "ipython3",
   "version": "3.10.7"
  },
  "orig_nbformat": 4,
  "vscode": {
   "interpreter": {
    "hash": "241817aec4ec74f4a353cf982090d75f94ff3c4db5e9e05e869669ee1f7c774d"
   }
  }
 },
 "nbformat": 4,
 "nbformat_minor": 2
}
