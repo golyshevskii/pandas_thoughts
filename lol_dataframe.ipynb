{
 "cells": [
  {
   "cell_type": "code",
   "execution_count": 12,
   "metadata": {},
   "outputs": [
    {
     "data": {
      "text/html": [
       "<div>\n",
       "<style scoped>\n",
       "    .dataframe tbody tr th:only-of-type {\n",
       "        vertical-align: middle;\n",
       "    }\n",
       "\n",
       "    .dataframe tbody tr th {\n",
       "        vertical-align: top;\n",
       "    }\n",
       "\n",
       "    .dataframe thead th {\n",
       "        text-align: right;\n",
       "    }\n",
       "</style>\n",
       "<table border=\"1\" class=\"dataframe\">\n",
       "  <thead>\n",
       "    <tr style=\"text-align: right;\">\n",
       "      <th></th>\n",
       "      <th>name</th>\n",
       "      <th>age</th>\n",
       "    </tr>\n",
       "  </thead>\n",
       "  <tbody>\n",
       "    <tr>\n",
       "      <th>0</th>\n",
       "      <td>Egor</td>\n",
       "      <td>25</td>\n",
       "    </tr>\n",
       "    <tr>\n",
       "      <th>1</th>\n",
       "      <td>Arthur</td>\n",
       "      <td>23</td>\n",
       "    </tr>\n",
       "    <tr>\n",
       "      <th>2</th>\n",
       "      <td>Slava</td>\n",
       "      <td>27</td>\n",
       "    </tr>\n",
       "  </tbody>\n",
       "</table>\n",
       "</div>"
      ],
      "text/plain": [
       "     name  age\n",
       "0    Egor   25\n",
       "1  Arthur   23\n",
       "2   Slava   27"
      ]
     },
     "execution_count": 12,
     "metadata": {},
     "output_type": "execute_result"
    }
   ],
   "source": [
    "import pandas as pd\n",
    "import numpy as np\n",
    "\n",
    "# df = {'index': [0, 1, 2],\n",
    "#       'columns': [{'name': 'name', 'data': ['Egor', 'Arthur', 'Slava']},\n",
    "#                   {'name': 'age', 'data': [25, 23, 27]}\n",
    "#                  ]\n",
    "#      }\n",
    "\n",
    "df = pd.DataFrame({'name': ['Egor', 'Arthur', 'Slava'], 'age': [25, 23, 27]})\n",
    "df"
   ]
  },
  {
   "cell_type": "code",
   "execution_count": 3,
   "metadata": {},
   "outputs": [
    {
     "data": {
      "text/plain": [
       "0      Egor\n",
       "1    Arthur\n",
       "2     Slava\n",
       "Name: name, dtype: object"
      ]
     },
     "execution_count": 3,
     "metadata": {},
     "output_type": "execute_result"
    }
   ],
   "source": [
    "df.loc[1]\n",
    "df['name']"
   ]
  },
  {
   "cell_type": "code",
   "execution_count": 4,
   "metadata": {},
   "outputs": [
    {
     "data": {
      "text/plain": [
       "0      EGOR\n",
       "1    ARTHUR\n",
       "2     SLAVA\n",
       "Name: name, dtype: object"
      ]
     },
     "execution_count": 4,
     "metadata": {},
     "output_type": "execute_result"
    }
   ],
   "source": [
    "df['name'].str.upper()"
   ]
  },
  {
   "cell_type": "code",
   "execution_count": 11,
   "metadata": {},
   "outputs": [
    {
     "data": {
      "text/html": [
       "<div>\n",
       "<style scoped>\n",
       "    .dataframe tbody tr th:only-of-type {\n",
       "        vertical-align: middle;\n",
       "    }\n",
       "\n",
       "    .dataframe tbody tr th {\n",
       "        vertical-align: top;\n",
       "    }\n",
       "\n",
       "    .dataframe thead th {\n",
       "        text-align: right;\n",
       "    }\n",
       "</style>\n",
       "<table border=\"1\" class=\"dataframe\">\n",
       "  <thead>\n",
       "    <tr style=\"text-align: right;\">\n",
       "      <th></th>\n",
       "      <th>a</th>\n",
       "      <th>b</th>\n",
       "      <th>c</th>\n",
       "    </tr>\n",
       "  </thead>\n",
       "  <tbody>\n",
       "    <tr>\n",
       "      <th>0</th>\n",
       "      <td>-0.607548</td>\n",
       "      <td>-0.126136</td>\n",
       "      <td>-0.684606</td>\n",
       "    </tr>\n",
       "    <tr>\n",
       "      <th>1</th>\n",
       "      <td>0.928715</td>\n",
       "      <td>-1.844401</td>\n",
       "      <td>-0.467002</td>\n",
       "    </tr>\n",
       "    <tr>\n",
       "      <th>2</th>\n",
       "      <td>2.292490</td>\n",
       "      <td>0.488810</td>\n",
       "      <td>0.710267</td>\n",
       "    </tr>\n",
       "    <tr>\n",
       "      <th>3</th>\n",
       "      <td>1.055534</td>\n",
       "      <td>0.054073</td>\n",
       "      <td>0.257953</td>\n",
       "    </tr>\n",
       "    <tr>\n",
       "      <th>4</th>\n",
       "      <td>0.588282</td>\n",
       "      <td>0.885244</td>\n",
       "      <td>-1.017007</td>\n",
       "    </tr>\n",
       "  </tbody>\n",
       "</table>\n",
       "</div>"
      ],
      "text/plain": [
       "          a         b         c\n",
       "0 -0.607548 -0.126136 -0.684606\n",
       "1  0.928715 -1.844401 -0.467002\n",
       "2  2.292490  0.488810  0.710267\n",
       "3  1.055534  0.054073  0.257953\n",
       "4  0.588282  0.885244 -1.017007"
      ]
     },
     "execution_count": 11,
     "metadata": {},
     "output_type": "execute_result"
    }
   ],
   "source": [
    "np.random.seed(40)\n",
    "\n",
    "np_df = pd.DataFrame(np.random.randn(5, 3), columns=['a', 'b', 'c'])\n",
    "np_df"
   ]
  },
  {
   "cell_type": "code",
   "execution_count": 15,
   "metadata": {},
   "outputs": [
    {
     "data": {
      "text/plain": [
       "[RangeIndex(start=0, stop=3, step=1), Index(['name', 'age'], dtype='object')]"
      ]
     },
     "execution_count": 15,
     "metadata": {},
     "output_type": "execute_result"
    }
   ],
   "source": [
    "df.axes"
   ]
  },
  {
   "cell_type": "code",
   "execution_count": 21,
   "metadata": {},
   "outputs": [
    {
     "name": "stdout",
     "output_type": "stream",
     "text": [
      "r1: 0.263ms\n",
      "r2: 0.375ms\n"
     ]
    }
   ],
   "source": [
    "import time\n",
    "\n",
    "s1 = time.time()\n",
    "r1 = df.sum(axis='index')\n",
    "e1 = time.time()\n",
    "\n",
    "s2 = time.time()\n",
    "r2 = df.apply(np.sum, axis=0)\n",
    "e2 = time.time()\n",
    "\n",
    "# df.sum(axis=0)\n",
    "# df.sum(axis=1)\n",
    "print('r1: {0:.3f}ms\\nr2: {1:.3f}ms'.format((e1 - s1)*10**3, (e2 - s2)*10**3))"
   ]
  },
  {
   "cell_type": "code",
   "execution_count": 29,
   "metadata": {},
   "outputs": [
    {
     "name": "stdout",
     "output_type": "stream",
     "text": [
      "source df memory usage: 16485\n",
      "transformed df memory usage: 7665\n",
      "delta: 2.2\n"
     ]
    }
   ],
   "source": [
    "import pandas as pd\n",
    "import numpy as np\n",
    "import time\n",
    "\n",
    "col_names = {\n",
    "    'Seq.': 'Sequence', 'Bg': 'Background',\n",
    "    'PL': 'Party leadership', 'CAb': 'Communication ability', \n",
    "    'RC': 'Relations with Congress', 'CAp': 'Court appointments', \n",
    "    'HE': 'Handling of economy', 'L': 'Luck',\n",
    "    'AC': 'Ability to compromise', 'WR': 'Willing to take risks', \n",
    "    'EAp': 'Executive appointments', 'OA': 'Overall ability', \n",
    "    'Im': 'Imagination', 'DA': 'Domestic accomplishments',\n",
    "    'Int': 'Integrity', 'EAb': 'Executive ability',\n",
    "    'FPA': 'Foreign policy accomplishments',\n",
    "    'LA': 'Leadership ability',\n",
    "    'IQ': 'Intelligence', 'AM': 'Avoid crucial mistakes',\n",
    "    'EV': \"Experts' view\", 'O': 'Overall'\n",
    "}\n",
    "\n",
    "\n",
    "df = pd.read_csv('./data/siena2018-pres.csv', index_col=0)\n",
    "ms = df.memory_usage(deep=True).sum()\n",
    "\n",
    "# df.head()\n",
    "# df.columns\n",
    "# df.dtypes\n",
    "# df.nunique()     # Party to category type\n",
    "# df.max()         # int64 to uint8 0-255\n",
    "\n",
    "def transform_df(df: pd.DataFrame) -> pd.DataFrame:\n",
    "    new_df_types = dict()\n",
    "    \n",
    "    for col in df.columns:\n",
    "        if col == 'Party':\n",
    "            new_df_types[col] = 'category'\n",
    "        elif col not in ('Seq.', 'President'):\n",
    "            new_df_types[col] = 'uint8'\n",
    "\n",
    "    r_df = (df.astype(new_df_types)\n",
    "              .rename(columns={k:v.replace(' ', '_') for k, v in col_names.items()}))\n",
    "    return r_df\n",
    "\n",
    "t_df = transform_df(df)\n",
    "t_ms = t_df.memory_usage(deep=True).sum()\n",
    "print(f'source df memory usage: {ms}\\ntransformed df memory usage: {t_ms}\\ndelta: {ms / t_ms:.1f}')\n"
   ]
  },
  {
   "cell_type": "code",
   "execution_count": null,
   "metadata": {},
   "outputs": [],
   "source": []
  }
 ],
 "metadata": {
  "kernelspec": {
   "display_name": "Python 3.10.7 64-bit",
   "language": "python",
   "name": "python3"
  },
  "language_info": {
   "codemirror_mode": {
    "name": "ipython",
    "version": 3
   },
   "file_extension": ".py",
   "mimetype": "text/x-python",
   "name": "python",
   "nbconvert_exporter": "python",
   "pygments_lexer": "ipython3",
   "version": "3.10.7"
  },
  "orig_nbformat": 4,
  "vscode": {
   "interpreter": {
    "hash": "aee8b7b246df8f9039afb4144a1f6fd8d2ca17a180786b69acc140d282b71a49"
   }
  }
 },
 "nbformat": 4,
 "nbformat_minor": 2
}
